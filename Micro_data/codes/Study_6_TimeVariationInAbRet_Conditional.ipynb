{
 "cells": [
  {
   "cell_type": "code",
   "execution_count": 1,
   "metadata": {},
   "outputs": [],
   "source": [
    "#%% Import Moduels\n",
    "\n",
    "## System Tools\n",
    "import os\n",
    "import sys\n",
    "import numpy as np\n",
    "## I/O Tools\n",
    "import _pickle as pickle\n",
    "## Data Process Tools\n",
    "import pandas as pd\n",
    "import datetime\n",
    "## Graphs\n",
    "import matplotlib.pyplot as plt\n",
    "import matplotlib.backends.backend_pdf as figpdf\n",
    "import matplotlib.dates as matdates\n",
    "## Statistical Tools\n",
    "import statsmodels.api as sm\n",
    "import scipy.stats as stats\n",
    "## Database API\n",
    "from fredapi import Fred\n",
    "## API for WRDS\n",
    "import wrds\n",
    "\n",
    "# End of Section: Import Moduels\n",
    "###############################################################################\n",
    "\n",
    "\n",
    "#%% Setup Working Directory\n",
    "## Windows System Path\n",
    "FolderList = [xx+\"\\\\Dropbox\\\\Research Projects\\\\02_HeteFirm_AsymetricInformation\\\\Data\\\\Micro_data\\\\codes\\\\\" \\\n",
    "              for xx in [\"D:\\\\\", \"E:\\\\\",\"B:\\\\\",\"/mnt/b/\"]]\n",
    "for Folder in FolderList:\n",
    "    if os.path.exists(Folder):\n",
    "        os.chdir(Folder)     \n",
    "\n",
    "## Output Folder\n",
    "OutputFolder = '../results/AbReturnCyclicality/'\n",
    "if not os.path.exists(OutputFolder):\n",
    "    os.makedirs(OutputFolder)\n",
    "# End of Section: Setup Working Directory\n",
    "###############################################################################\n",
    "    \n",
    "\n",
    "# End of Section: Setup Working Directory\n",
    "###############################################################################\n",
    "\n",
    "\n",
    "#%% Import Self-written Functions\n",
    "CodeFolder      =   \"../../../../../Code/PythonLib/\"\n",
    "\n",
    "sys.path.append(CodeFolder)\n",
    "\n",
    "import Toolkit_TimeSeries as MyTS\n",
    "import Toolkit_Graphics as MyGR\n",
    "# End of Section: Import Self-written Functions\n",
    "###############################################################################\n"
   ]
  },
  {
   "cell_type": "markdown",
   "metadata": {},
   "source": [
    "# Assemble the data set including firm-level characteristics"
   ]
  },
  {
   "cell_type": "markdown",
   "metadata": {},
   "source": [
    "## Sample of issuance"
   ]
  },
  {
   "cell_type": "code",
   "execution_count": 2,
   "metadata": {},
   "outputs": [],
   "source": [
    "DataFolder          =   \"..\\\\temp\\\\\"\n",
    "SDC_AbRet_Wide      =   pd.read_pickle(DataFolder+\"SDC_AbRet_Wide.p\")\n",
    "SDC_IssuanceInfo    =   pd.read_pickle(DataFolder+\"SDC_IssuanceInfo.p\") "
   ]
  },
  {
   "cell_type": "code",
   "execution_count": 3,
   "metadata": {},
   "outputs": [],
   "source": [
    "# Use the _1-1 window to measure the accumulated abnormal return \n",
    "VarList_AbRet = ['F_AccAbRet_-1_1', 'I_AccAbRet_-1_1']\n",
    "\n",
    "temp = SDC_AbRet_Wide.loc[:, ['IssueID']+VarList_AbRet]\n",
    "temp[VarList_AbRet] = temp[VarList_AbRet]*100\n",
    "\n",
    "Sample = SDC_IssuanceInfo.merge(temp, how='left', left_on='IssueID', right_on='IssueID')"
   ]
  },
  {
   "cell_type": "code",
   "execution_count": 4,
   "metadata": {},
   "outputs": [],
   "source": [
    "# Measure the price drop differently for firms with different shelf-issuance type \n",
    "TempInd = Sample['ShelfIssueFlag']==1\n",
    "\n",
    "Sample['EventDate'] = Sample['FilingDate']\n",
    "Sample.loc[TempInd, 'EventDate'] = Sample.loc[TempInd, 'IssueDate']\n",
    "\n",
    "Sample['AccAbRet'] = Sample['F_AccAbRet_-1_1']\n",
    "Sample.loc[TempInd, 'AccAbRet'] = Sample.loc[TempInd, 'I_AccAbRet_-1_1']\n",
    "\n",
    "Sample['EventDate_Quarter'] = Sample['FilingDate_Quarter']\n",
    "Sample.loc[TempInd, 'EventDate_Quarter'] = Sample.loc[TempInd, 'IssueDate_Quarter']"
   ]
  },
  {
   "cell_type": "code",
   "execution_count": 5,
   "metadata": {},
   "outputs": [
    {
     "name": "stderr",
     "output_type": "stream",
     "text": [
      "d:\\Dropbox\\Research Projects\\02_HeteFirm_AsymetricInformation\\Data\\Env_Python\\Lib\\site-packages\\pandas\\core\\arraylike.py:399: RuntimeWarning: divide by zero encountered in log\n",
      "  result = getattr(ufunc, method)(*inputs, **kwargs)\n"
     ]
    }
   ],
   "source": [
    "# Different measures of issuance \n",
    "Sample['LogProceeds'] = np.log(Sample['ProceedsAmount'])\n",
    "Sample['Proceed_Asset'] = Sample['ProceedsAmount'] / Sample['TotalAsset_BeforeOffering']\n",
    "Sample['Proceed_Equity'] = Sample['ProceedsAmount'] / Sample['TotalEquity']\n",
    "Sample['Log_Asset'] = np.log(Sample['TotalAsset_BeforeOffering'])\n",
    "Sample['Leverage'] = Sample['TotalDebt'] / Sample['TotalAsset_BeforeOffering']\n",
    "Sample['ExtraShare'] = Sample['OfferedTotalShares']/Sample['TotalShares_BeforeOffering']"
   ]
  },
  {
   "cell_type": "code",
   "execution_count": 6,
   "metadata": {},
   "outputs": [],
   "source": [
    "# Drop the observations with missing event date (14% of the sample)\n",
    "Sample = Sample.dropna(subset=['EventDate'])"
   ]
  },
  {
   "cell_type": "code",
   "execution_count": 7,
   "metadata": {},
   "outputs": [
    {
     "data": {
      "text/plain": [
       "Index(['IssueID', 'IssueID_ObsNum', 'FilingDate', 'FilingDateFlag',\n",
       "       'FilingDate_Year', 'FilingDate_Quarter', 'FilingDate_Month',\n",
       "       'LaunchDate', 'LaunchDateFlag', 'LaunchDate_Year', 'LaunchDate_Quarter',\n",
       "       'LaunchDate_Month', 'IssueDate', 'IssueDateFlag', 'IssueDate_Year',\n",
       "       'IssueDate_Quarter', 'IssueDate_Month', 'GapDays_F2I', 'GapDays_L2I',\n",
       "       'GapDays_F2L', 'GapBusDays_F2I', 'GapBusDays_L2I', 'GapBusDays_F2L',\n",
       "       'SIC', 'FF5_Name', 'FF5_Code', 'FF10_Name', 'FF10_Code', 'Issuer',\n",
       "       'Nation', 'Exchange', 'CUSIP', 'CUSIP_9digit', 'CUSIP_1_6', 'CUSIP_7_8',\n",
       "       'CUSIP_8digit', 'CUSIP_DigitNum', 'TickerSymbol', 'DaysInRegistration',\n",
       "       'RightsOfferFlag', 'Rule415ShelfFlag', 'ProceedsUse', 'PrincipalAmount',\n",
       "       'FiledAmount', 'ProceedsAmount', 'RealPrincipalAmount',\n",
       "       'RealFiledAmount', 'RealProceedsAmount', 'FiledShares',\n",
       "       'OfferedTotalShares', 'OfferedPrimaryShares', 'OfferedSecondaryShares',\n",
       "       'OfferAvgPrice', 'OfferedPrimarySharesPct', 'ShareType',\n",
       "       'TotalAsset_AfterOffering', 'TotalAsset_BeforeOffering', 'TotalDebt',\n",
       "       'TotalEquity', 'MarketValue', 'TotalShares_BeforeOffering',\n",
       "       'TotalShares_AfterOffering', 'InsiderSharesPct_BeforeOffering',\n",
       "       'PrimarySharesPct_BeforeOffering', 'PrimarySharesPct_AfterOffering',\n",
       "       'Leverage_BeforeOffering', 'Leverage_AfterOffering', 'CRSP_Info',\n",
       "       'PrimaryPct', 'PrimaryFlag', 'ShelfIssueFlag'],\n",
       "      dtype='object')"
      ]
     },
     "execution_count": 7,
     "metadata": {},
     "output_type": "execute_result"
    }
   ],
   "source": [
    "SDC_IssuanceInfo.columns"
   ]
  },
  {
   "cell_type": "markdown",
   "metadata": {},
   "source": [
    "## Merge with firm-level information"
   ]
  },
  {
   "cell_type": "code",
   "execution_count": 8,
   "metadata": {},
   "outputs": [],
   "source": [
    "# Load in the SDC-CompustatQ linked data\n",
    "DS_FirmInfo     =   pd.read_pickle(DataFolder+\"SDC_CompustatQ_FirmInfo.p\")\n",
    "DS_CompustatQ   =   pd.read_pickle(DataFolder+\"SDC_CompustatQ.p\")"
   ]
  },
  {
   "cell_type": "code",
   "execution_count": 10,
   "metadata": {},
   "outputs": [],
   "source": [
    "VarList_FirmInfo_ID = ['IssueID',  'CalendarQtr_Date']\n",
    "\n",
    "VarList_FirmInfo_Demo = ['gvkey', 'sic', 'naics', 'year1', 'year2', 'fic', 'ipodate', 'FF10_Code', 'FF10_Name', 'FF5_Code', 'FF5_Name', \\\n",
    "                         'FiscalQtr',  'FiscalQtr_Year', 'FiscalQtr_Quarter', \\\n",
    "                         'CalendarQtr', 'CalendarQtr_Quarter', 'CalendarQtr_Year', 'CalendarQtr_Qnum']\n",
    "\n",
    "VarList_FirmInfo_Performance = ['Diff_LogSales', 'Diff_LogSales_Quant', 'Diff_LogSales_UppQuant', 'Diff_LogSales_LowQuant', \\\n",
    "                                'Diff_LogAsset', 'Diff_LogAsset_Quant', 'Diff_LogAsset_UppQuant', 'Diff_LogAsset_LowQuant', \\\n",
    "                                'Equity_M2B', 'Equity_M2B_Quant', 'Equity_M2B_UppQuant', 'Equity_M2B_LowQuant', \\\n",
    "                                'Leverage', 'Cash']\n",
    "VarList_FirmInfo_Performance_Lag = ['Lag_Asset', 'Lag_Asset_Quant', 'Lag_Asset_UppQuant', 'Lag_Asset_LowQuant']\n",
    "\n",
    "\n"
   ]
  },
  {
   "cell_type": "code",
   "execution_count": 11,
   "metadata": {},
   "outputs": [],
   "source": [
    "\n",
    "def TempFun_ShiftQDate(Date,GapQ):\n",
    "    if pd.isna(Date):\n",
    "        QDate       =   Date\n",
    "    else:\n",
    "        Y   =   Date.year\n",
    "        Q   =   int(np.ceil(Date.month/3))\n",
    "        NumQ=   Y*4+Q+GapQ\n",
    "        Qp  =   np.mod(NumQ,4)\n",
    "        Yp  =   int((NumQ-Qp)/4)\n",
    "        if Qp==0:\n",
    "            Qp  =   4\n",
    "            Yp  =   Yp-1\n",
    "        \n",
    "        QDate   =   datetime.date(Yp,Qp*3-2,1)\n",
    "    \n",
    "    return QDate\n",
    "\n",
    "Sample['EventDate_Quarter_Lag'] = Sample['EventDate_Quarter'].apply(lambda x: TempFun_ShiftQDate(x,-1))"
   ]
  },
  {
   "cell_type": "code",
   "execution_count": 12,
   "metadata": {},
   "outputs": [],
   "source": [
    "# Merge step 1: merge with the lag variables  \n",
    "TempDS_Firm = DS_CompustatQ.loc[:, VarList_FirmInfo_ID+VarList_FirmInfo_Demo+VarList_FirmInfo_Performance_Lag]\n",
    "Sample = Sample.merge(TempDS_Firm, how='left', left_on=['IssueID', 'EventDate_Quarter'], right_on=['IssueID', 'CalendarQtr_Date'], \n",
    "                      indicator=True, suffixes=('', '_drop'))\n",
    "Sample = Sample.drop(columns=[col for col in Sample.columns if col.endswith('_drop')])"
   ]
  },
  {
   "cell_type": "code",
   "execution_count": 13,
   "metadata": {},
   "outputs": [
    {
     "data": {
      "text/plain": [
       "_merge\n",
       "both          0.815805\n",
       "left_only     0.184195\n",
       "right_only    0.000000\n",
       "Name: proportion, dtype: float64"
      ]
     },
     "execution_count": 13,
     "metadata": {},
     "output_type": "execute_result"
    }
   ],
   "source": [
    "Sample['_merge'].value_counts(normalize=True)\n",
    "# About 82% of the observations are matched"
   ]
  },
  {
   "cell_type": "code",
   "execution_count": 14,
   "metadata": {},
   "outputs": [],
   "source": [
    "Sample['Flag_Compustat'] = Sample['_merge'].map({'left_only': 0, 'right_only': 0, 'both': 1})\n",
    "Sample.drop('_merge', axis=1, inplace=True)"
   ]
  },
  {
   "cell_type": "code",
   "execution_count": 36,
   "metadata": {},
   "outputs": [],
   "source": [
    "VarList = ['gvkey', 'CalendarQtr', 'EventDate', 'IssueID', 'AccAbRet', 'ExtraShare', 'ProceedsAmount', 'Flag_Compustat']\n",
    "temp = Sample.loc[:, VarList].dropna(subset=['gvkey', 'EventDate'])\n",
    "\n",
    "for vv in temp.columns:\n",
    "    if temp[vv].dtype=='float64':\n",
    "        temp.loc[~np.isfinite(temp[vv]), vv] = np.nan \n",
    "    if temp[vv].dtype=='object':\n",
    "        temp[vv] = temp[vv].astype(str) \n",
    "\n",
    "temp.to_stata(\"../results/DataForPablo/Sample_SEO.dta\")"
   ]
  },
  {
   "cell_type": "code",
   "execution_count": 46,
   "metadata": {},
   "outputs": [],
   "source": [
    "# Merge step 2: merge with the lagged variables\n",
    "TempDS_Firm = DS_CompustatQ.loc[:, VarList_FirmInfo_ID+VarList_FirmInfo_Performance].rename(columns={vv: 'Lag_'+vv for vv in VarList_FirmInfo_Performance})\n",
    "Sample = Sample.merge(TempDS_Firm, how='left', left_on=['IssueID', 'EventDate_Quarter_Lag'], right_on=['IssueID', 'CalendarQtr_Date'], suffixes=('', '_drop'))\n",
    "Sample = Sample.drop(columns=[col for col in Sample.columns if col.endswith('_drop')])"
   ]
  },
  {
   "cell_type": "markdown",
   "metadata": {},
   "source": [
    "# Run the regression to control the selection"
   ]
  },
  {
   "cell_type": "markdown",
   "metadata": {},
   "source": [
    "## Export the data to stata"
   ]
  },
  {
   "cell_type": "code",
   "execution_count": 47,
   "metadata": {},
   "outputs": [],
   "source": [
    "# temp = Sample.drop(['F_AccAbRet_-1_1', 'I_AccAbRet_-1_1'], axis=1)\n",
    "# for vv in temp.columns:\n",
    "#     if temp[vv].dtype=='float64':\n",
    "#         temp.loc[~np.isfinite(temp[vv]), vv] = np.nan \n",
    "#     if temp[vv].dtype=='object':\n",
    "#         temp[vv] = temp[vv].astype(str) \n",
    "\n",
    "# temp.to_stata('../temp/AbRetCyclicality_withFirmInfo.dta')"
   ]
  },
  {
   "cell_type": "markdown",
   "metadata": {},
   "source": [
    "## Check the extreme values"
   ]
  },
  {
   "cell_type": "code",
   "execution_count": 48,
   "metadata": {},
   "outputs": [
    {
     "data": {
      "text/plain": [
       "count    6207.000000\n",
       "mean       -2.730429\n",
       "std         9.400002\n",
       "min      -112.353636\n",
       "0.1%      -68.600985\n",
       "1%        -34.246104\n",
       "50%        -2.257500\n",
       "99%        18.987822\n",
       "99.9%      70.644135\n",
       "max       109.360854\n",
       "Name: AccAbRet, dtype: float64"
      ]
     },
     "execution_count": 48,
     "metadata": {},
     "output_type": "execute_result"
    }
   ],
   "source": [
    "Sample['AccAbRet'].describe(percentiles=[0.001, 0.01, 0.99, 0.999])"
   ]
  },
  {
   "cell_type": "code",
   "execution_count": 49,
   "metadata": {},
   "outputs": [],
   "source": [
    "import stata_setup\n",
    "stata_setup.config(\"D:\\\\Stata18\\\\\", \"mp\")\n",
    "from pystata import stata "
   ]
  },
  {
   "cell_type": "markdown",
   "metadata": {},
   "source": [
    "## Push the data into Stata"
   ]
  },
  {
   "cell_type": "code",
   "execution_count": 50,
   "metadata": {},
   "outputs": [],
   "source": [
    "temp = Sample.drop(['F_AccAbRet_-1_1', 'I_AccAbRet_-1_1'], axis=1)\n",
    "for vv in temp.columns:\n",
    "    if temp[vv].dtype=='float64':\n",
    "        temp.loc[~np.isfinite(temp[vv]), vv] = np.nan "
   ]
  },
  {
   "cell_type": "code",
   "execution_count": 51,
   "metadata": {},
   "outputs": [],
   "source": [
    "stata.pdataframe_to_data(temp.reset_index(drop=True),force=True)"
   ]
  },
  {
   "cell_type": "markdown",
   "metadata": {},
   "source": [
    "## Clean the data"
   ]
  },
  {
   "cell_type": "code",
   "execution_count": 52,
   "metadata": {},
   "outputs": [
    {
     "name": "stdout",
     "output_type": "stream",
     "text": [
      "\n",
      ". \n",
      ". * Sector\n",
      ". \n",
      ". generate NAICS_2 = substr(naics, 1, 2)\n",
      "(1,254 missing values generated)\n",
      "\n",
      ". encode(NAICS_2), generate(NAICS_2_Code)\n",
      "\n",
      ". \n",
      ". * Exchange \n",
      ". encode(Exchange), generate(Exchange_Code)\n"
     ]
    },
    {
     "name": "stdout",
     "output_type": "stream",
     "text": [
      "\n",
      ". \n",
      ". * Firm id \n",
      ". encode(gvkey), generate(gvkey_Code)\n",
      "\n",
      ". \n",
      ". * Issuance size \n",
      ". gen IssuanceSize = ProceedsAmount/MarketValue\n",
      "(316 missing values generated)\n",
      "\n",
      ". \n",
      ". * Date \n",
      ". gen Date = date(EventDate_Quarter, \"YMD\")\n",
      "\n",
      ". gen Year = year(Date)\n",
      "\n",
      ". \n"
     ]
    }
   ],
   "source": [
    "stata.run('''\n",
    "* Sector\n",
    "\n",
    "generate NAICS_2 = substr(naics, 1, 2)\n",
    "encode(NAICS_2), generate(NAICS_2_Code)\n",
    "\n",
    "* Exchange \n",
    "encode(Exchange), generate(Exchange_Code)\n",
    "\n",
    "* Firm id \n",
    "encode(gvkey), generate(gvkey_Code)\n",
    "\n",
    "* Issuance size \n",
    "gen IssuanceSize = ProceedsAmount/MarketValue\n",
    "\n",
    "* Date \n",
    "gen Date = date(EventDate_Quarter, \"YMD\")\n",
    "gen Year = year(Date)\n",
    "''')"
   ]
  },
  {
   "cell_type": "code",
   "execution_count": 53,
   "metadata": {},
   "outputs": [
    {
     "name": "stdout",
     "output_type": "stream",
     "text": [
      "(1,254 missing values generated)\n"
     ]
    }
   ],
   "source": [
    "stata.run('gen Age=Year-year1')"
   ]
  },
  {
   "cell_type": "code",
   "execution_count": 54,
   "metadata": {},
   "outputs": [
    {
     "name": "stdout",
     "output_type": "stream",
     "text": [
      "\n",
      "    Variable |        Obs        Mean    Std. dev.       Min        Max\n",
      "-------------+---------------------------------------------------------\n",
      "         Age |      5,554    11.85794    11.30141          0         68\n"
     ]
    }
   ],
   "source": [
    "stata.run('sum Age')"
   ]
  },
  {
   "cell_type": "markdown",
   "metadata": {},
   "source": [
    "## Regression to filter the selection"
   ]
  },
  {
   "cell_type": "code",
   "execution_count": 55,
   "metadata": {},
   "outputs": [],
   "source": [
    "def UnitRegFilter(YVar, XVarList, AbsorbVarList, SampleRestriction, WeightVar='', RegCommand='reghdfe', Level=90):\n",
    "    # Compose the Stata Command\n",
    "    OptionList = []\n",
    "    OptionList.append('noabsorb') if len(AbsorbVarList)==0 else OptionList.append('absorb('+' '.join(AbsorbVarList)+')')\n",
    "    OptionList.append('res(Res_'+str(YVar)+')')\n",
    "    # Run regression\n",
    "    print('Start running regression for',YVar,':')\n",
    "    StataCommand = ' '.join([RegCommand,YVar]+XVarList+[SampleRestriction])+('' if len(WeightVar)==0 else ' [weight='+WeightVar+']')+', '+' '.join(OptionList)\n",
    "    stata.run(StataCommand, quietly=False)\n",
    "    # print(StataCommand)\n",
    "\n",
    "    print('Done.')\n",
    "\n",
    "    return "
   ]
  },
  {
   "cell_type": "code",
   "execution_count": 56,
   "metadata": {},
   "outputs": [],
   "source": [
    "YVar = 'AccAbRet'\n",
    "XVarList = ['Lag_Asset_Quant', 'Lag_Diff_LogSales_Quant', 'Lag_Equity_M2B_Quant', 'Lag_Leverage']\n",
    "AbsorbVarList = ['i.NAICS_2_Code', 'i.Exchange_Code', 'i.ShelfIssueFlag', 'i.NAICS_2_Code#c.Year', 'i.Age']\n",
    "SampleRestriction = 'if Year>=1983 & AccAbRet>=-50 & AccAbRet<=50'"
   ]
  },
  {
   "cell_type": "code",
   "execution_count": 57,
   "metadata": {},
   "outputs": [
    {
     "name": "stdout",
     "output_type": "stream",
     "text": [
      "Start running regression for AccAbRet :\n",
      "(dropped 1 singleton observations)\n",
      "(MWFE estimator converged in 316 iterations)\n",
      "\n",
      "HDFE Linear regression                            Number of obs   =      4,570\n",
      "Absorbing 5 HDFE groups                           F(   4,   4455) =       7.01\n",
      "                                                  Prob > F        =     0.0000\n",
      "                                                  R-squared       =     0.0353\n",
      "                                                  Adj R-squared   =     0.0106\n",
      "                                                  Within R-sq.    =     0.0063\n",
      "                                                  Root MSE        =     8.2051\n",
      "\n",
      "------------------------------------------------------------------------------\n",
      "    AccAbRet | Coefficient  Std. err.      t    P>|t|     [95% conf. interval]\n",
      "-------------+----------------------------------------------------------------\n",
      "Lag_A~_Quant |   2.644534   .8131131     3.25   0.001     1.050428    4.238639\n",
      "Lag_~s_Quant |   .5264953   .4514765     1.17   0.244    -.3586228    1.411613\n",
      "Lag_E~_Quant |   2.324644   .5728693     4.06   0.000     1.201536    3.447752\n",
      "Lag_Leverage |   .2450572   .5407628     0.45   0.650    -.8151065    1.305221\n",
      "       _cons |  -6.355591   .7249379    -8.77   0.000    -7.776829   -4.934352\n",
      "------------------------------------------------------------------------------\n",
      "\n",
      "Absorbed degrees of freedom:\n",
      "-------------------------------------------------------------+\n",
      "         Absorbed FE | Categories  - Redundant  = Num. Coefs |\n",
      "---------------------+---------------------------------------|\n",
      "        NAICS_2_Code |        21           0          21     |\n",
      "       Exchange_Code |         3           1           2     |\n",
      "      ShelfIssueFlag |         2           1           1    ?|\n",
      " NAICS_2_Code#c.Year |        21           0          21    ?|\n",
      "                 Age |        67           1          66    ?|\n",
      "-------------------------------------------------------------+\n",
      "? = number of redundant parameters may be higher\n",
      "Done.\n"
     ]
    }
   ],
   "source": [
    "UnitRegFilter(YVar, XVarList, AbsorbVarList, SampleRestriction)"
   ]
  },
  {
   "cell_type": "markdown",
   "metadata": {},
   "source": [
    "## Merge the residual into the main sample"
   ]
  },
  {
   "cell_type": "code",
   "execution_count": 58,
   "metadata": {},
   "outputs": [],
   "source": [
    "AccAbRet_Filtered = stata.pdataframe_from_data(var=['IssueID', 'Res_AccAbRet'], missingval=np.nan)"
   ]
  },
  {
   "cell_type": "code",
   "execution_count": 59,
   "metadata": {},
   "outputs": [],
   "source": [
    "Sample = Sample.merge(AccAbRet_Filtered, how='left', left_on='IssueID', right_on='IssueID')"
   ]
  },
  {
   "cell_type": "markdown",
   "metadata": {},
   "source": [
    "# Cyclicality of the filtered abnormal returns "
   ]
  },
  {
   "cell_type": "markdown",
   "metadata": {},
   "source": [
    "## Time-series plot"
   ]
  },
  {
   "cell_type": "code",
   "execution_count": 60,
   "metadata": {},
   "outputs": [],
   "source": [
    "def TempFun_WM(DS,VarList,WeightVar):\n",
    "    Temp_Num        =   DS[VarList].multiply(DS[WeightVar],axis=0).sum(axis=0)\n",
    "    Temp_DeNum      =   ( ~pd.isna(DS[VarList]) ).multiply(DS[WeightVar],axis=0).sum(axis=0)\n",
    "    WM              =   Temp_Num.divide(Temp_DeNum,axis=0)\n",
    "    WM.name         =   'WMean'\n",
    "    \n",
    "    return WM\n",
    "\n",
    "DataForPlot = pd.concat([Sample.groupby('EventDate_Quarter')['Res_AccAbRet'].mean().sort_index().rename('AccAbRet_Avg'), \\\n",
    "                         Sample.groupby('EventDate_Quarter').apply(TempFun_WM, ['Res_AccAbRet'], 'ProceedsAmount', include_groups=False).sort_index()['Res_AccAbRet'].rename('AccAbRet_WAvg')], \\\n",
    "                        axis=1).sort_index()"
   ]
  },
  {
   "cell_type": "code",
   "execution_count": 61,
   "metadata": {},
   "outputs": [],
   "source": [
    "# Add the aggregate price and quantity data\n",
    "temp = pd.read_pickle('../../Macro_data/temp/AggDS_Dict_AggPQ.p')\n",
    "\n",
    "DataForPlot = DataForPlot.merge(temp['Detrend'][['Growth_GDP', 'GDP']], left_index=True, right_index=True, how='left')"
   ]
  },
  {
   "cell_type": "code",
   "execution_count": 62,
   "metadata": {},
   "outputs": [
    {
     "name": "stderr",
     "output_type": "stream",
     "text": [
      "The PostScript backend does not support transparency; partially transparent artists will be rendered opaque.\n"
     ]
    },
    {
     "data": {
      "image/png": "[encoded data removed]",
      "text/plain": [
       "<Figure size 825x550 with 1 Axes>"
      ]
     },
     "metadata": {},
     "output_type": "display_data"
    }
   ],
   "source": [
    "Fig = MyGR.Setup_Fig()\n",
    "ax = Fig.add_subplot(1,1,1)\n",
    "MyGR.Line(Width=2).Plot(DataForPlot.index, DataForPlot['AccAbRet_Avg'], ax=ax, Label=\"Abnormal return: non-weighted\")\n",
    "MyGR.Line(Color=\"Blue\", Style=\"dashed\", Width=1).Plot(DataForPlot.index, DataForPlot['AccAbRet_WAvg'], ax=ax, Label=\"Abnormal return: weighted\")\n",
    "MyGR.Line(Color=\"Gray\", Style=\"solid\", Width=1).Plot(DataForPlot.index, DataForPlot['Growth_GDP'], ax=ax, Label=\"GDP Growth\")\n",
    "ax.set_xlim([datetime.date(1983,1,1),datetime.date(2015,12,31)])\n",
    "ax.set_ylabel('Percent', fontsize=8) \n",
    "ax.set_xlabel('Year', fontsize=8)\n",
    "ax.tick_params(axis='both', labelsize=5)\n",
    "MyGR.NBER_RecessionBar(ax)\n",
    "MyGR.Setup_Ax(ax, XDateFlag=True, XTickNbins=10)\n",
    "plt.legend(loc='lower left', fontsize=6)\n",
    "\n",
    "plt.tight_layout()\n",
    "\n",
    "plt.savefig(OutputFolder+'AccAbRet_BusinessCycle_Conditional.eps', format='eps', dpi=1000)"
   ]
  },
  {
   "cell_type": "markdown",
   "metadata": {},
   "source": [
    "## Correlation with GDP growth"
   ]
  },
  {
   "cell_type": "code",
   "execution_count": 63,
   "metadata": {},
   "outputs": [
    {
     "data": {
      "text/html": [
       "<div>\n",
       "<style scoped>\n",
       "    .dataframe tbody tr th:only-of-type {\n",
       "        vertical-align: middle;\n",
       "    }\n",
       "\n",
       "    .dataframe tbody tr th {\n",
       "        vertical-align: top;\n",
       "    }\n",
       "\n",
       "    .dataframe thead th {\n",
       "        text-align: right;\n",
       "    }\n",
       "</style>\n",
       "<table border=\"1\" class=\"dataframe\">\n",
       "  <thead>\n",
       "    <tr style=\"text-align: right;\">\n",
       "      <th></th>\n",
       "      <th>AccAbRet_Avg</th>\n",
       "      <th>AccAbRet_WAvg</th>\n",
       "    </tr>\n",
       "  </thead>\n",
       "  <tbody>\n",
       "    <tr>\n",
       "      <th>Corr</th>\n",
       "      <td>0.302572</td>\n",
       "      <td>0.288499</td>\n",
       "    </tr>\n",
       "    <tr>\n",
       "      <th>p-value</th>\n",
       "      <td>0.001248</td>\n",
       "      <td>0.002136</td>\n",
       "    </tr>\n",
       "  </tbody>\n",
       "</table>\n",
       "</div>"
      ],
      "text/plain": [
       "         AccAbRet_Avg  AccAbRet_WAvg\n",
       "Corr         0.302572       0.288499\n",
       "p-value      0.001248       0.002136"
      ]
     },
     "execution_count": 63,
     "metadata": {},
     "output_type": "execute_result"
    }
   ],
   "source": [
    "non_nan_index = DataForPlot.dropna().index\n",
    "TempIndex = non_nan_index[(non_nan_index>=datetime.datetime(1983,1,1)) & (non_nan_index<=datetime.datetime(2015,12,31))] \n",
    "\n",
    "TempVarList = ['AccAbRet_Avg', 'AccAbRet_WAvg']\n",
    "\n",
    "TempTab = pd.concat([pd.Series(stats.pearsonr(DataForPlot.loc[TempIndex, vv], DataForPlot.loc[TempIndex, 'Growth_GDP']), index=['Corr', 'p-value']) for vv in TempVarList], axis=1, keys=TempVarList)\n",
    "\n",
    "TempTab.to_latex(OutputFolder+'Corr_w_GDPGrowth_Conditional.tex', float_format=\"%.3g\", escape=True)\n",
    "\n",
    "TempTab "
   ]
  },
  {
   "cell_type": "markdown",
   "metadata": {},
   "source": [
    "## Recession vs. Non-Recession"
   ]
  },
  {
   "cell_type": "code",
   "execution_count": 64,
   "metadata": {},
   "outputs": [],
   "source": [
    "# Add the recession indicator\n",
    "NBER_recessions = [\n",
    "    (datetime.date(1980, 1, 1), datetime.date(1980, 7, 1)),\n",
    "    (datetime.date(1981, 7, 1), datetime.date(1982, 11, 1)),\n",
    "    (datetime.date(1990, 7, 1), datetime.date(1991, 3, 1)),\n",
    "    (datetime.date(2001, 3, 1), datetime.date(2001, 11, 1)),\n",
    "    (datetime.date(2007, 12, 1), datetime.date(2009, 6, 1)),\n",
    "    # Add more recession periods as needed\n",
    "]\n",
    "\n",
    "def is_during_nber_recession(date):\n",
    "    \"\"\"\n",
    "    Check if a given date falls within any NBER recession period.\n",
    "'\n",
    "    Parameters:\n",
    "    date (datetime.date): The date to check.\n",
    "\n",
    "    Returns:\n",
    "    bool: True if the date is during an NBER recession, False otherwise.\n",
    "    \"\"\"\n",
    "    for start, end in NBER_recessions:\n",
    "        if start <= date <= end:\n",
    "            return True\n",
    "    return False\n",
    "\n",
    "Sample['EventDate_RecFlag'] = Sample['EventDate'].apply(lambda x: is_during_nber_recession(x)*1 if pd.isna(x)==False else np.nan)"
   ]
  },
  {
   "cell_type": "code",
   "execution_count": 65,
   "metadata": {},
   "outputs": [
    {
     "data": {
      "text/html": [
       "<div>\n",
       "<style scoped>\n",
       "    .dataframe tbody tr th:only-of-type {\n",
       "        vertical-align: middle;\n",
       "    }\n",
       "\n",
       "    .dataframe tbody tr th {\n",
       "        vertical-align: top;\n",
       "    }\n",
       "\n",
       "    .dataframe thead th {\n",
       "        text-align: right;\n",
       "    }\n",
       "</style>\n",
       "<table border=\"1\" class=\"dataframe\">\n",
       "  <thead>\n",
       "    <tr style=\"text-align: right;\">\n",
       "      <th></th>\n",
       "      <th>count</th>\n",
       "      <th>mean</th>\n",
       "      <th>std</th>\n",
       "      <th>min</th>\n",
       "      <th>25%</th>\n",
       "      <th>50%</th>\n",
       "      <th>75%</th>\n",
       "      <th>max</th>\n",
       "    </tr>\n",
       "    <tr>\n",
       "      <th>EventDate_RecFlag</th>\n",
       "      <th></th>\n",
       "      <th></th>\n",
       "      <th></th>\n",
       "      <th></th>\n",
       "      <th></th>\n",
       "      <th></th>\n",
       "      <th></th>\n",
       "      <th></th>\n",
       "    </tr>\n",
       "  </thead>\n",
       "  <tbody>\n",
       "    <tr>\n",
       "      <th>0</th>\n",
       "      <td>3954.0</td>\n",
       "      <td>0.172325</td>\n",
       "      <td>7.683350</td>\n",
       "      <td>-42.208851</td>\n",
       "      <td>-3.618233</td>\n",
       "      <td>0.350881</td>\n",
       "      <td>4.123419</td>\n",
       "      <td>45.280755</td>\n",
       "    </tr>\n",
       "    <tr>\n",
       "      <th>1</th>\n",
       "      <td>226.0</td>\n",
       "      <td>-1.751765</td>\n",
       "      <td>8.618597</td>\n",
       "      <td>-43.176031</td>\n",
       "      <td>-6.566721</td>\n",
       "      <td>-1.403294</td>\n",
       "      <td>2.842081</td>\n",
       "      <td>27.426199</td>\n",
       "    </tr>\n",
       "  </tbody>\n",
       "</table>\n",
       "</div>"
      ],
      "text/plain": [
       "                    count      mean       std        min       25%       50%  \\\n",
       "EventDate_RecFlag                                                              \n",
       "0                  3954.0  0.172325  7.683350 -42.208851 -3.618233  0.350881   \n",
       "1                   226.0 -1.751765  8.618597 -43.176031 -6.566721 -1.403294   \n",
       "\n",
       "                        75%        max  \n",
       "EventDate_RecFlag                       \n",
       "0                  4.123419  45.280755  \n",
       "1                  2.842081  27.426199  "
      ]
     },
     "execution_count": 65,
     "metadata": {},
     "output_type": "execute_result"
    }
   ],
   "source": [
    "TempIndex = (Sample['EventDate']>=datetime.date(1983,1,1)) & (Sample['EventDate']<=datetime.date(2015,12,31))\n",
    "TempTab = Sample.loc[TempIndex, :].groupby('EventDate_RecFlag')['Res_AccAbRet'].describe()\n",
    "\n",
    "TempTab.to_latex(OutputFolder+'AccAbRet_RecessionVsNonRecession_Conditional.tex', float_format=\"%.3g\", escape=True)\n",
    "\n",
    "TempTab "
   ]
  },
  {
   "cell_type": "code",
   "execution_count": 66,
   "metadata": {},
   "outputs": [
    {
     "name": "stdout",
     "output_type": "stream",
     "text": [
      "T-statistic: -3.6362996732099586, P-value: 0.0002799168301688663\n"
     ]
    }
   ],
   "source": [
    "# T-Test of the Abnormal Returns in recessions and non-recessions\n",
    "group1 = Sample.loc[TempIndex & (Sample['EventDate_RecFlag']==1), 'Res_AccAbRet']\n",
    "group2 = Sample.loc[TempIndex & (Sample['EventDate_RecFlag']==0), 'Res_AccAbRet']\n",
    "\n",
    "# Perform the two-sample t-test\n",
    "t_stat, p_value = stats.ttest_ind(group1.dropna(), group2.dropna())\n",
    "print(f\"T-statistic: {t_stat}, P-value: {p_value}\")"
   ]
  },
  {
   "cell_type": "markdown",
   "metadata": {},
   "source": [
    "## Mannually check the firms issuing during recession"
   ]
  },
  {
   "cell_type": "code",
   "execution_count": 67,
   "metadata": {},
   "outputs": [],
   "source": [
    "RecessionSample = Sample.loc[Sample['EventDate_RecFlag']==1, :]"
   ]
  },
  {
   "cell_type": "code",
   "execution_count": 68,
   "metadata": {},
   "outputs": [],
   "source": [
    "RecessionSample.to_pickle('../temp/RecessionSample.p')"
   ]
  },
  {
   "cell_type": "code",
   "execution_count": 72,
   "metadata": {},
   "outputs": [],
   "source": [
    "RecessionSample.to_csv('../temp/RecessionSample.csv')"
   ]
  },
  {
   "cell_type": "code",
   "execution_count": 71,
   "metadata": {},
   "outputs": [],
   "source": [
    "temp = RecessionSample[['EventDate', 'AccAbRet', 'Issuer', 'FF10_Name', 'ProceedsUse']].sort_values('EventDate')"
   ]
  },
  {
   "cell_type": "markdown",
   "metadata": {},
   "source": []
  }
 ],
 "metadata": {
  "kernelspec": {
   "display_name": "Env_Python",
   "language": "python",
   "name": "python3"
  },
  "language_info": {
   "codemirror_mode": {
    "name": "ipython",
    "version": 3
   },
   "file_extension": ".py",
   "mimetype": "text/x-python",
   "name": "python",
   "nbconvert_exporter": "python",
   "pygments_lexer": "ipython3",
   "version": "3.11.7"
  }
 },
 "nbformat": 4,
 "nbformat_minor": 2
}
