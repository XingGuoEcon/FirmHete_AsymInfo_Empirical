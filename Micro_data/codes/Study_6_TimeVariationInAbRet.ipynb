{
 "cells": [
  {
   "cell_type": "code",
   "execution_count": 1,
   "metadata": {},
   "outputs": [],
   "source": [
    "#%% Import Moduels\n",
    "\n",
    "## System Tools\n",
    "import os\n",
    "import numpy as np\n",
    "from collections import OrderedDict\n",
    "import itertools\n",
    "## I/O Tools\n",
    "import pickle as pickle\n",
    "## Data Process Tools\n",
    "import pandas as pd\n",
    "# import modin.pandas as pd\n",
    "import datetime\n",
    "## Graphs\n",
    "import matplotlib.pyplot as plt\n",
    "import matplotlib.backends.backend_pdf as figpdf\n",
    "# import Graphics as MyGR\n",
    "## Statistical Tools\n",
    "from scipy.stats import t as TDist\n",
    "import statsmodels.formula.api as sm\n",
    "from statsmodels.tsa.api import VAR\n",
    "from scipy.stats import mstats\n",
    "import statsmodels.api as SMAPI\n",
    "from statsmodels.tsa.tsatools import detrend as DeTrend\n",
    "from statsmodels.tsa.filters.hp_filter import hpfilter as HPfilter\n",
    "from statsmodels.tsa.filters.bk_filter import bkfilter as BKfilter\n",
    "## Database API\n",
    "# from fredapi import Fred\n",
    "# fred = Fred(api_key='86cde3dec5dda5ffca44b58f01838b1e')\n",
    "## Numerical API\n",
    "from scipy.interpolate import interp1d\n",
    "## Regular Expression API\n",
    "import re\n",
    "# import ray\n",
    "\n",
    "idx = pd.IndexSlice\n",
    "# End of Section: Import Moduels\n",
    "###############################################################################\n",
    "\n",
    "#%% Setup Working Directory\n",
    "## Windows System Path\n",
    "FolderList = [xx+\"\\\\Dropbox\\\\Research Projects\\\\02_FirmHete_AsymmetricInformation\\\\Data\\\\Micro_data\\\\codes\\\\\" \\\n",
    "              for xx in [\"D:\\\\\", \"E:\\\\\",\"B:\\\\\",\"/mnt/b/\"]]\n",
    "for Folder in FolderList:\n",
    "    if os.path.exists(Folder):\n",
    "        os.chdir(Folder)     \n",
    "\n",
    "## Output Folder\n",
    "OutputFolder = 'TableGraph/SumStat/'\n",
    "if not os.path.exists(OutputFolder):\n",
    "    os.makedirs(OutputFolder)\n",
    "# End of Section: Setup Working Directory\n",
    "###############################################################################\n"
   ]
  },
  {
   "cell_type": "code",
   "execution_count": null,
   "metadata": {},
   "outputs": [],
   "source": []
  },
  {
   "cell_type": "markdown",
   "metadata": {},
   "source": [
    "# Load in the data"
   ]
  },
  {
   "cell_type": "code",
   "execution_count": 2,
   "metadata": {},
   "outputs": [],
   "source": [
    "DS = pd.read_pickle(\"../Temp/RegSample.p\")"
   ]
  }
 ],
 "metadata": {
  "kernelspec": {
   "display_name": "Env_Python",
   "language": "python",
   "name": "python3"
  },
  "language_info": {
   "codemirror_mode": {
    "name": "ipython",
    "version": 3
   },
   "file_extension": ".py",
   "mimetype": "text/x-python",
   "name": "python",
   "nbconvert_exporter": "python",
   "pygments_lexer": "ipython3",
   "version": "3.11.7"
  }
 },
 "nbformat": 4,
 "nbformat_minor": 2
}
