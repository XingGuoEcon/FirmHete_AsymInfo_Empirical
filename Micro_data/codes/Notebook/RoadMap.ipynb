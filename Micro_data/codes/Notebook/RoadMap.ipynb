{
 "cells": [
  {
   "cell_type": "markdown",
   "metadata": {},
   "source": [
    "The micro-level empirical study is designed to provide the evidence about how monetary shocks can affect the cost of equity issuance. The first question coming to our mind is: how to measure the cost of equity issuance?\n",
    "\n",
    " \n",
    "\n",
    "# Measuring the Cost of Equity Issuance\n",
    "\n",
    "Following the finance literature, the cost of equity issuance includes the transaction related costs, e.g. floatation cost and management fees, and the cost caused by the information asymmetry problem. The information asymmetry related cost is typically measured by the effect of equity issuance on the stock price. Now, first, let's show you what happens to the stock price in the event of equity issuance.\n",
    "\n",
    "Here we did an event study about the stock price movement around the issuance event dates. There are two types of date: the date when SEO is filed to SEC, and the date when the equity is actually offered in the public market. \n",
    "\n",
    "## Fact about the Impacts of Equity Issuance on Stock Price\n",
    "\n",
    "### Figure of the daily abnormal return history within the event window\n",
    "\n",
    "Based on the daily return history within the event window, we are delivering a clear message which is consistent with the previous studies: equity issuance can lead to a significant drop in stock price, i.e. value loss for shareholders. Based on this fact, we measure the cost of equity issuance, i.e. the value loss associated with equity issuance for shareholders, by the total accumulated abnormal return within a very narrow window around the event date.\n",
    "\n",
    "#### Robustness checks:\n",
    "    1. Different statistics to justify the inference about the negativity of the daily return right around the event date.\n",
    "    2. Similar pattern shows up around the event of actual stock issuance.\n",
    "    3. Similar pattern survives when we extend the sample period to post 2000.\n",
    "\n",
    "### Tables of Summary Statistics about the accumulated abnormal return (unconditional and conditional on aggregate economic conditions)\n",
    "\n",
    "These results delivers two points: the size of the cost of equity issuance on average, and how this cost could be correlated with the monetary policy.\n",
    "\n",
    "#### Robustness checks:\n",
    "    1. The magnitude, especially, and the conditional feature, will hold for the event of actual issuance.\n",
    "    2. These results will hold when we extend the sample period to post 2000.\n",
    "    \n",
    "# Understanding the Variation of the Cost of Equity Issuance\n",
    "\n",
    "## Cross-sectional Variation (Shift along the Supply Curve)\n",
    "### Table of Regression only with Firm-level Controls\n",
    "\n",
    "\n",
    "## Cross-time Variation (Shift of the Supply Curve)\n",
    "### Table of Summary Statistics of the Residuals in the regression only with Firm-level controls\n",
    "\n",
    "\n",
    "## Joint Analysis\n",
    "\n",
    "### Table of Baseline Regression with the results for MsHF and MsRR\n",
    "#### Robust checks:\n",
    "    1. Extend to Issuance Event Date\n",
    "    2. Extend to Post-2000 sample period.\n",
    "    3. \n",
    "\n",
    "# Other aspects about Firms' Equity Issuance Decision\n",
    "\n",
    "## Timing Choice\n",
    "## "
   ]
  },
  {
   "cell_type": "code",
   "execution_count": null,
   "metadata": {},
   "outputs": [],
   "source": []
  }
 ],
 "metadata": {
  "hide_input": false,
  "kernelspec": {
   "display_name": "Python 3",
   "language": "python",
   "name": "python3"
  },
  "language_info": {
   "codemirror_mode": {
    "name": "ipython",
    "version": 3
   },
   "file_extension": ".py",
   "mimetype": "text/x-python",
   "name": "python",
   "nbconvert_exporter": "python",
   "pygments_lexer": "ipython3",
   "version": "3.7.1"
  },
  "varInspector": {
   "cols": {
    "lenName": 16,
    "lenType": 16,
    "lenVar": 40
   },
   "kernels_config": {
    "python": {
     "delete_cmd_postfix": "",
     "delete_cmd_prefix": "del ",
     "library": "var_list.py",
     "varRefreshCmd": "print(var_dic_list())"
    },
    "r": {
     "delete_cmd_postfix": ") ",
     "delete_cmd_prefix": "rm(",
     "library": "var_list.r",
     "varRefreshCmd": "cat(var_dic_list()) "
    }
   },
   "types_to_exclude": [
    "module",
    "function",
    "builtin_function_or_method",
    "instance",
    "_Feature"
   ],
   "window_display": false
  }
 },
 "nbformat": 4,
 "nbformat_minor": 2
}
